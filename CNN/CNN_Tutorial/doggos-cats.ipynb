{
 "cells": [
  {
   "cell_type": "code",
   "execution_count": 11,
   "metadata": {},
   "outputs": [],
   "source": [
    "import cv2 as cv\n",
    "import tensorflow as tf\n",
    "keras = tf.keras\n",
    "\n",
    "CATEGORIES = ['Dog', 'Cat']\n",
    "\n",
    "def prepare(filepath):\n",
    "\tIMG_SIZE = 70\n",
    "\timg_array = cv.imread(filepath, cv.IMREAD_GRAYSCALE)\n",
    "\tnew_array = cv.resize(img_array,(IMG_SIZE, IMG_SIZE))\n",
    "\treturn new_array.reshape(-1, IMG_SIZE, IMG_SIZE, 1)\n",
    "\n",
    "model = keras.models.load_model(\"64x3-CNN.model\")\n"
   ]
  },
  {
   "cell_type": "code",
   "execution_count": 12,
   "metadata": {},
   "outputs": [
    {
     "name": "stdout",
     "output_type": "stream",
     "text": [
      "Cat\n"
     ]
    }
   ],
   "source": [
    "prediction = model.predict([prepare('cat.jpg')])\n",
    "print(CATEGORIES[int(prediction[0][0])])"
   ]
  },
  {
   "cell_type": "code",
   "execution_count": 13,
   "metadata": {},
   "outputs": [
    {
     "name": "stdout",
     "output_type": "stream",
     "text": [
      "Dog\n"
     ]
    }
   ],
   "source": [
    "prediction = model.predict([prepare('dog.jpg')])\n",
    "print(CATEGORIES[int(prediction[0][0])])"
   ]
  }
 ],
 "metadata": {
  "interpreter": {
   "hash": "e72ecba000026de049f091d098c2799984f5b6b9a9d87a038c69fe956a832c4a"
  },
  "kernelspec": {
   "display_name": "Python 3.9.12 ('d-rl')",
   "language": "python",
   "name": "python3"
  },
  "language_info": {
   "codemirror_mode": {
    "name": "ipython",
    "version": 3
   },
   "file_extension": ".py",
   "mimetype": "text/x-python",
   "name": "python",
   "nbconvert_exporter": "python",
   "pygments_lexer": "ipython3",
   "version": "3.9.12"
  },
  "orig_nbformat": 4
 },
 "nbformat": 4,
 "nbformat_minor": 2
}
