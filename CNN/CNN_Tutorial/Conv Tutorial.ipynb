{
 "cells": [
  {
   "cell_type": "code",
   "execution_count": 57,
   "metadata": {},
   "outputs": [],
   "source": [
    "import tensorflow as tf\n",
    "keras = tf.keras\n",
    "from keras.models import Sequential\n",
    "from keras.layers import Dense, Dropout, Activation, Flatten, Conv2D, MaxPooling2D\n",
    "import pickle\n",
    "import numpy as np\n",
    "from keras.callbacks import TensorBoard\n",
    "import time"
   ]
  },
  {
   "cell_type": "code",
   "execution_count": 58,
   "metadata": {},
   "outputs": [],
   "source": [
    "NAME = \"Cats-vs-Dogs-cnn-64x2-{}\".format(int(time.time()))\n",
    "\n",
    "tensorboard = TensorBoard(log_dir='logs/{}'.format(NAME))\n",
    "\n",
    "#load data\n",
    "X = pickle.load(open(\"X.pickle\",\"rb\"))\n",
    "y = pickle.load(open(\"y.pickle\",\"rb\"))\n",
    "\n",
    "X = X/255.0\n",
    "y = np.array(y)"
   ]
  },
  {
   "cell_type": "code",
   "execution_count": 59,
   "metadata": {},
   "outputs": [
    {
     "name": "stdout",
     "output_type": "stream",
     "text": [
      "Model: \"sequential_19\"\n",
      "_________________________________________________________________\n",
      " Layer (type)                Output Shape              Param #   \n",
      "=================================================================\n",
      " conv2d_32 (Conv2D)          (None, 68, 68, 64)        640       \n",
      "                                                                 \n",
      " activation_56 (Activation)  (None, 68, 68, 64)        0         \n",
      "                                                                 \n",
      " max_pooling2d_32 (MaxPoolin  (None, 34, 34, 64)       0         \n",
      " g2D)                                                            \n",
      "                                                                 \n",
      " conv2d_33 (Conv2D)          (None, 32, 32, 64)        36928     \n",
      "                                                                 \n",
      " activation_57 (Activation)  (None, 32, 32, 64)        0         \n",
      "                                                                 \n",
      " max_pooling2d_33 (MaxPoolin  (None, 16, 16, 64)       0         \n",
      " g2D)                                                            \n",
      "                                                                 \n",
      " flatten_16 (Flatten)        (None, 16384)             0         \n",
      "                                                                 \n",
      " dense_32 (Dense)            (None, 64)                1048640   \n",
      "                                                                 \n",
      " activation_58 (Activation)  (None, 64)                0         \n",
      "                                                                 \n",
      " dense_33 (Dense)            (None, 1)                 65        \n",
      "                                                                 \n",
      " activation_59 (Activation)  (None, 1)                 0         \n",
      "                                                                 \n",
      "=================================================================\n",
      "Total params: 1,086,273\n",
      "Trainable params: 1,086,273\n",
      "Non-trainable params: 0\n",
      "_________________________________________________________________\n"
     ]
    }
   ],
   "source": [
    "# dense_layers = [0, 1, 2]\n",
    "# layer_sizes = [32, 64, 128]\n",
    "# conv_layers = [1, 2, 3]\n",
    "\n",
    "# for dense_layer in dense_layers:\n",
    "# \tfor layer_size in  layer_sizes:\n",
    "# \t\tfor conv_layer in conv_layers:\n",
    "# \t\t\tNAME = \"{}-conv-{}-nodes-{}-dense-{}\".format(conv_layer, layer_size, dense_layer, time.time())\n",
    "# \t\t\tprint(NAME)\n",
    "\n",
    "model = Sequential()\n",
    "\n",
    "model.add(Conv2D(64, (3,3), input_shape= X.shape[1:]))\n",
    "model.add(Activation(\"relu\"))\n",
    "model.add(MaxPooling2D(pool_size=(2,2)))\n",
    "\n",
    "model.add(Conv2D(64, (3,3)))\n",
    "model.add(Activation(\"relu\"))\n",
    "model.add(MaxPooling2D(pool_size=(2,2)))\n",
    "\n",
    "model.add(Flatten())\n",
    "model.add(Dense(64))\n",
    "model.add(Activation(\"relu\"))\n",
    "\n",
    "model.add(Dense(1))\n",
    "model.add(Activation(\"sigmoid\"))\n",
    "\n",
    "model.compile(loss=\"binary_crossentropy\", optimizer=\"adam\", metrics = ['accuracy'])\n",
    "model.summary()\n",
    "\n",
    "# model.fit(X, y, batch_size=32, epochs=8, validation_split=0.3, callbacks=[tensorboard])\n"
   ]
  },
  {
   "cell_type": "code",
   "execution_count": 60,
   "metadata": {},
   "outputs": [
    {
     "name": "stdout",
     "output_type": "stream",
     "text": [
      "Epoch 1/8\n",
      "702/702 [==============================] - 77s 109ms/step - loss: 0.6269 - accuracy: 0.6389 - val_loss: 0.5825 - val_accuracy: 0.6926\n",
      "Epoch 2/8\n",
      "702/702 [==============================] - 76s 108ms/step - loss: 0.5218 - accuracy: 0.7417 - val_loss: 0.4927 - val_accuracy: 0.7563\n",
      "Epoch 3/8\n",
      "702/702 [==============================] - 75s 107ms/step - loss: 0.4747 - accuracy: 0.7730 - val_loss: 0.4739 - val_accuracy: 0.7599\n",
      "Epoch 4/8\n",
      "702/702 [==============================] - 79s 113ms/step - loss: 0.4441 - accuracy: 0.7936 - val_loss: 0.4623 - val_accuracy: 0.7743\n",
      "Epoch 5/8\n",
      "702/702 [==============================] - 76s 108ms/step - loss: 0.4097 - accuracy: 0.8122 - val_loss: 0.4498 - val_accuracy: 0.7908\n",
      "Epoch 6/8\n",
      "702/702 [==============================] - 76s 109ms/step - loss: 0.3846 - accuracy: 0.8264 - val_loss: 0.4636 - val_accuracy: 0.7924\n",
      "Epoch 7/8\n",
      "702/702 [==============================] - 74s 106ms/step - loss: 0.3587 - accuracy: 0.8376 - val_loss: 0.4505 - val_accuracy: 0.7892\n",
      "Epoch 8/8\n",
      "702/702 [==============================] - 76s 109ms/step - loss: 0.3278 - accuracy: 0.8560 - val_loss: 0.4655 - val_accuracy: 0.7960\n"
     ]
    },
    {
     "data": {
      "text/plain": [
       "<keras.callbacks.History at 0x1de921c3a60>"
      ]
     },
     "execution_count": 60,
     "metadata": {},
     "output_type": "execute_result"
    }
   ],
   "source": [
    "model.fit(X, y, batch_size=32, epochs=8, validation_split=0.1, callbacks=[tensorboard])"
   ]
  },
  {
   "cell_type": "code",
   "execution_count": 61,
   "metadata": {},
   "outputs": [
    {
     "name": "stdout",
     "output_type": "stream",
     "text": [
      "INFO:tensorflow:Assets written to: 64x3-CNN.model\\assets\n"
     ]
    }
   ],
   "source": [
    "model.save('64x3-CNN.model')"
   ]
  },
  {
   "cell_type": "markdown",
   "metadata": {},
   "source": []
  },
  {
   "cell_type": "code",
   "execution_count": null,
   "metadata": {},
   "outputs": [],
   "source": []
  }
 ],
 "metadata": {
  "interpreter": {
   "hash": "e72ecba000026de049f091d098c2799984f5b6b9a9d87a038c69fe956a832c4a"
  },
  "kernelspec": {
   "display_name": "Python 3.9.12 ('d-rl')",
   "language": "python",
   "name": "python3"
  },
  "language_info": {
   "codemirror_mode": {
    "name": "ipython",
    "version": 3
   },
   "file_extension": ".py",
   "mimetype": "text/x-python",
   "name": "python",
   "nbconvert_exporter": "python",
   "pygments_lexer": "ipython3",
   "version": "3.9.12"
  },
  "orig_nbformat": 4
 },
 "nbformat": 4,
 "nbformat_minor": 2
}
