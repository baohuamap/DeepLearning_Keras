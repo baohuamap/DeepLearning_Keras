{
 "cells": [
  {
   "cell_type": "code",
   "execution_count": 79,
   "metadata": {},
   "outputs": [],
   "source": [
    "import pandas as pd\n",
    "import os\n",
    "from sklearn import preprocessing\n",
    "from collections import deque\n",
    "import numpy as np\n",
    "import random\n",
    "import time\n",
    "import tensorflow as tf\n",
    "keras = tf.keras\n",
    "from keras.models import Sequential\n",
    "from keras.layers import Dense, Dropout, LSTM, CuDNNLSTM, BatchNormalization \n",
    "from keras.callbacks import TensorBoard, ModelCheckpoint"
   ]
  },
  {
   "cell_type": "code",
   "execution_count": 80,
   "metadata": {},
   "outputs": [],
   "source": [
    "SEQ_LEN = 60 \t\t\t\t# how long of a preceeding sequence to collect for RNN\n",
    "FUTURE_PERIOD_PREDICT = 3\t# how far into the future are we trying to predict?\n",
    "RATIO_TO_PREDICT = 'LTC-USD'\n",
    "EPOCHS = 10\n",
    "BATCH_SIZE = 64\n",
    "NAME = f\"{SEQ_LEN}-SEQ-{FUTURE_PERIOD_PREDICT}-PRED-{int(time.time())}\""
   ]
  },
  {
   "cell_type": "code",
   "execution_count": 81,
   "metadata": {},
   "outputs": [],
   "source": [
    "def classify(current, future):\n",
    "\tif float(future) > float(current):\n",
    "\t\treturn 1\n",
    "\telse:\n",
    "\t\treturn 0\n",
    "\n",
    "def preprocess_df(df):\n",
    "\tdf = df.drop('future', 1) \t# we don't need future\n",
    "\t\n",
    "\tfor col in df.columns: \n",
    "\t\tif col != 'target':\t\t# normalize all ... except for the target itself!\n",
    "\t\t\t# pct change \"normalizes\" the different currencies (each crypto coin has vastly diff values, we're really more interested in the other coin's movements)\n",
    "\t\t\tdf[col] = df[col].pct_change()\n",
    "\t\t\t# remove the nas (null) created by pct_change\n",
    "\t\t\tdf.dropna(inplace=True)\n",
    "\t\t\t # scale between 0 and 1.\n",
    "\t\t\tdf[col] = preprocessing.scale(df[col].values)\n",
    "\t\n",
    "\tdf.dropna(inplace=True) # cleanup again... jic. Those nasty NaNs love to creep in.\n",
    "\n",
    "\tsequential_data = []\t# this is a list that will CONTAIN the sequences\n",
    "\tprev_days = deque(maxlen=SEQ_LEN) # These will be our actual sequences. They are made with deque, which keeps the maximum length by popping out older values as new ones come in\n",
    "\n",
    "\tfor i in df.values:\n",
    "\t\tprev_days.append([n for n in i[:-1]])\t # store all but the target\n",
    "\t\tif len(prev_days) == SEQ_LEN:\t# make sure we have 60 sequences!\n",
    "\t\t\tsequential_data.append([np.array(prev_days), i[-1]])\t# append those bad boys!\n",
    "\t\n",
    "\trandom.shuffle(sequential_data) \t# shuffle for good measure.\n",
    "\n",
    "\tbuys = []\n",
    "\tsells = []\n",
    "\n",
    "\tfor seq, target in sequential_data:\n",
    "\t\tif target == 0:\n",
    "\t\t\tsells.append([seq, target])\n",
    "\t\telif target == 1:\n",
    "\t\t\tbuys.append([seq, target])\n",
    "\t\n",
    "\trandom.shuffle(sells)\n",
    "\trandom.shuffle(buys)\n",
    "\n",
    "\tlower = min(len(buys), len(sells))\n",
    "\n",
    "\tbuys = buys[:lower]\n",
    "\tsells = sells[:lower]\n",
    "\n",
    "\tsequential_data = buys + sells\n",
    "\trandom.shuffle(sequential_data)\n",
    "\n",
    "\tX = []\n",
    "\ty = []\n",
    "\n",
    "\tfor seq, target in sequential_data:\n",
    "\t\tX.append(seq)\n",
    "\t\ty.append(target)\n",
    "\t\n",
    "\treturn np.array(X), np.array(y)\n"
   ]
  },
  {
   "cell_type": "code",
   "execution_count": 82,
   "metadata": {},
   "outputs": [
    {
     "name": "stdout",
     "output_type": "stream",
     "text": [
      "         time        low       high       open      close      volume\n",
      "0  1528968660  96.580002  96.589996  96.589996  96.580002    9.647200\n",
      "1  1528968720  96.449997  96.669998  96.589996  96.660004  314.387024\n",
      "2  1528968780  96.470001  96.570000  96.570000  96.570000   77.129799\n",
      "3  1528968840  96.449997  96.570000  96.570000  96.500000    7.216067\n",
      "4  1528968900  96.279999  96.540001  96.500000  96.389999  524.539978\n"
     ]
    }
   ],
   "source": [
    "#load data\n",
    "df = pd.read_csv('crypto_data/LTC-USD.csv', names=['time', 'low', 'high','open','close', 'volume'])\n",
    "print(df.head())"
   ]
  },
  {
   "cell_type": "code",
   "execution_count": 83,
   "metadata": {},
   "outputs": [
    {
     "name": "stdout",
     "output_type": "stream",
     "text": [
      "            BTC-USD_close  BTC-USD_volume  LTC-USD_close  LTC-USD_volume  \\\n",
      "time                                                                       \n",
      "1528968720    6487.379883        7.706374      96.660004      314.387024   \n",
      "1528968780    6479.410156        3.088252      96.570000       77.129799   \n",
      "1528968840    6479.410156        1.404100      96.500000        7.216067   \n",
      "1528968900    6479.979980        0.753000      96.389999      524.539978   \n",
      "1528968960    6480.000000        1.490900      96.519997       16.991997   \n",
      "\n",
      "            ETH-USD_close  ETH-USD_volume  BCH-USD_close  BCH-USD_volume  \n",
      "time                                                                      \n",
      "1528968720      486.01001       26.019083     870.859985       26.856577  \n",
      "1528968780      486.00000        8.449400     870.099976        1.124300  \n",
      "1528968840      485.75000       26.994646     870.789978        1.749862  \n",
      "1528968900      486.00000       77.355759     870.000000        1.680500  \n",
      "1528968960      486.00000        7.503300     869.989990        1.669014  \n"
     ]
    }
   ],
   "source": [
    "#begin with empty data frame\n",
    "main_df = pd.DataFrame()\n",
    "\n",
    "# the 4 ratios we want to consider\n",
    "ratios = ['BTC-USD', 'LTC-USD', 'ETH-USD', 'BCH-USD']\n",
    "\n",
    "for ratio in ratios:\n",
    "\tdataset = f'crypto_data/{ratio}.csv' \t# get the full path to the file\n",
    "\tdf = pd.read_csv(dataset, names=['time', 'low', 'high','open','close', 'volume']) \t# read in specific file\n",
    "\t# rename volume and close to include the ticker so we can still which close/volume is which:\n",
    "\tdf.rename(columns={'close': f'{ratio}_close', 'volume': f'{ratio}_volume'}, inplace=True)\n",
    "\t# set time as index so we can join them on this shared time\n",
    "\tdf.set_index('time', inplace=True)\n",
    "\t# ignore the other columns besides price and volume\n",
    "\tdf = df [[f'{ratio}_close', f'{ratio}_volume']]\n",
    "\n",
    "\tif len(main_df) == 0:  \t\t# if the dataframe is empty\n",
    "\t\tmain_df = df\n",
    "\telse:\t\t\t\t\t\t# otherwise, join this data to the main one\n",
    "\t\tmain_df = main_df.join(df)\n",
    "\n",
    "main_df.fillna(method=\"ffill\", inplace=True)  # if there are gaps in data, use previously known values\n",
    "main_df.dropna(inplace=True)\n",
    "print(main_df.head())"
   ]
  },
  {
   "cell_type": "code",
   "execution_count": 84,
   "metadata": {},
   "outputs": [
    {
     "name": "stdout",
     "output_type": "stream",
     "text": [
      "            LTC-USD_close     future\n",
      "time                                \n",
      "1528968720      96.660004  96.389999\n",
      "1528968780      96.570000  96.519997\n",
      "1528968840      96.500000  96.440002\n",
      "1528968900      96.389999  96.470001\n",
      "1528968960      96.519997  96.400002\n"
     ]
    }
   ],
   "source": [
    "main_df['future'] = main_df[f'{RATIO_TO_PREDICT}_close'].shift(-FUTURE_PERIOD_PREDICT)\n",
    "\n",
    "print(main_df[[f'{RATIO_TO_PREDICT}_close', 'future']].head())"
   ]
  },
  {
   "cell_type": "code",
   "execution_count": 85,
   "metadata": {},
   "outputs": [
    {
     "name": "stdout",
     "output_type": "stream",
     "text": [
      "            LTC-USD_close     future  target\n",
      "time                                        \n",
      "1528968720      96.660004  96.389999       0\n",
      "1528968780      96.570000  96.519997       0\n",
      "1528968840      96.500000  96.440002       0\n",
      "1528968900      96.389999  96.470001       1\n",
      "1528968960      96.519997  96.400002       0\n",
      "1528969020      96.440002  96.400002       0\n",
      "1528969080      96.470001  96.400002       0\n",
      "1528969140      96.400002  96.400002       0\n",
      "1528969200      96.400002  96.400002       0\n",
      "1528969260      96.400002  96.449997       1\n"
     ]
    }
   ],
   "source": [
    "main_df['target'] = list(map(classify, main_df[f'{RATIO_TO_PREDICT}_close'], main_df['future']))\n",
    "print(main_df[[f'{RATIO_TO_PREDICT}_close', 'future', 'target']].head(10))\n"
   ]
  },
  {
   "cell_type": "code",
   "execution_count": 86,
   "metadata": {},
   "outputs": [
    {
     "name": "stdout",
     "output_type": "stream",
     "text": [
      "1534922100\n"
     ]
    }
   ],
   "source": [
    "times = sorted(main_df.index.values)  # get the times\n",
    "last_5pct = times[-int(0.05*len(times))]  # get the last 5% of the times\n",
    "\n",
    "print(last_5pct)"
   ]
  },
  {
   "cell_type": "code",
   "execution_count": 87,
   "metadata": {},
   "outputs": [
    {
     "name": "stderr",
     "output_type": "stream",
     "text": [
      "C:\\Users\\Boro\\AppData\\Local\\Temp\\ipykernel_2116\\1854331237.py:8: FutureWarning: In a future version of pandas all arguments of DataFrame.drop except for the argument 'labels' will be keyword-only.\n",
      "  df = df.drop('future', 1) \t# we don't need future\n"
     ]
    },
    {
     "name": "stdout",
     "output_type": "stream",
     "text": [
      "train data: 77922 validation: 3860\n",
      "Dont buys: 38961, buys: 38961\n",
      "VALIDATION Dont buys: 1930, buys: 1930\n"
     ]
    },
    {
     "name": "stderr",
     "output_type": "stream",
     "text": [
      "C:\\Users\\Boro\\AppData\\Local\\Temp\\ipykernel_2116\\1854331237.py:8: FutureWarning: In a future version of pandas all arguments of DataFrame.drop except for the argument 'labels' will be keyword-only.\n",
      "  df = df.drop('future', 1) \t# we don't need future\n"
     ]
    }
   ],
   "source": [
    "validation_main_df = main_df[(main_df.index >= last_5pct)] \t \t# make the validation data where the index is in the last 5%\n",
    "main_df = main_df[(main_df.index < last_5pct)]\t \t\t\t\t# now the main_df is all the data up to the last 5%\n",
    "\n",
    "train_x, train_y = preprocess_df(main_df)\n",
    "validation_x, validation_y = preprocess_df(validation_main_df)\n",
    "\n",
    "print(f\"train data: {len(train_x)} validation: {len(validation_x)}\")\n",
    "print(f\"Dont buys: {len(train_y[train_y==0])}, buys: {len(train_y[train_y==1])}\")\n",
    "print(f\"VALIDATION Dont buys: {len(validation_y[validation_y==0])}, buys: {len(validation_y[validation_y==1])}\")\n"
   ]
  },
  {
   "cell_type": "code",
   "execution_count": 89,
   "metadata": {},
   "outputs": [
    {
     "name": "stdout",
     "output_type": "stream",
     "text": [
      "Model: \"sequential_4\"\n",
      "_________________________________________________________________\n",
      " Layer (type)                Output Shape              Param #   \n",
      "=================================================================\n",
      " lstm_12 (LSTM)              (None, 60, 128)           70144     \n",
      "                                                                 \n",
      " dropout_16 (Dropout)        (None, 60, 128)           0         \n",
      "                                                                 \n",
      " batch_normalization_12 (Bat  (None, 60, 128)          512       \n",
      " chNormalization)                                                \n",
      "                                                                 \n",
      " lstm_13 (LSTM)              (None, 60, 128)           131584    \n",
      "                                                                 \n",
      " dropout_17 (Dropout)        (None, 60, 128)           0         \n",
      "                                                                 \n",
      " batch_normalization_13 (Bat  (None, 60, 128)          512       \n",
      " chNormalization)                                                \n",
      "                                                                 \n",
      " lstm_14 (LSTM)              (None, 128)               131584    \n",
      "                                                                 \n",
      " dropout_18 (Dropout)        (None, 128)               0         \n",
      "                                                                 \n",
      " batch_normalization_14 (Bat  (None, 128)              512       \n",
      " chNormalization)                                                \n",
      "                                                                 \n",
      " dense_8 (Dense)             (None, 32)                4128      \n",
      "                                                                 \n",
      " dropout_19 (Dropout)        (None, 32)                0         \n",
      "                                                                 \n",
      " dense_9 (Dense)             (None, 2)                 66        \n",
      "                                                                 \n",
      "=================================================================\n",
      "Total params: 339,042\n",
      "Trainable params: 338,274\n",
      "Non-trainable params: 768\n",
      "_________________________________________________________________\n",
      "Epoch 1/10\n",
      "1218/1218 [==============================] - ETA: 0s - loss: 0.7125 - accuracy: 0.5059INFO:tensorflow:Assets written to: models\\RNN_Final-01-0.494.model\\assets\n"
     ]
    },
    {
     "name": "stderr",
     "output_type": "stream",
     "text": [
      "WARNING:absl:<keras.layers.recurrent.LSTMCell object at 0x0000018DCD056EB0> has the same name 'LSTMCell' as a built-in Keras object. Consider renaming <class 'keras.layers.recurrent.LSTMCell'> to avoid naming conflicts when loading with `tf.keras.models.load_model`. If renaming is not possible, pass the object in the `custom_objects` parameter of the load function.\n",
      "WARNING:absl:<keras.layers.recurrent.LSTMCell object at 0x0000018DC7E95790> has the same name 'LSTMCell' as a built-in Keras object. Consider renaming <class 'keras.layers.recurrent.LSTMCell'> to avoid naming conflicts when loading with `tf.keras.models.load_model`. If renaming is not possible, pass the object in the `custom_objects` parameter of the load function.\n",
      "WARNING:absl:<keras.layers.recurrent.LSTMCell object at 0x0000018DC7EBBE20> has the same name 'LSTMCell' as a built-in Keras object. Consider renaming <class 'keras.layers.recurrent.LSTMCell'> to avoid naming conflicts when loading with `tf.keras.models.load_model`. If renaming is not possible, pass the object in the `custom_objects` parameter of the load function.\n"
     ]
    },
    {
     "name": "stdout",
     "output_type": "stream",
     "text": [
      "1218/1218 [==============================] - 277s 225ms/step - loss: 0.7125 - accuracy: 0.5059 - val_loss: 0.6940 - val_accuracy: 0.4940\n",
      "Epoch 2/10\n",
      "1218/1218 [==============================] - ETA: 0s - loss: 0.6934 - accuracy: 0.5077INFO:tensorflow:Assets written to: models\\RNN_Final-02-0.523.model\\assets\n"
     ]
    },
    {
     "name": "stderr",
     "output_type": "stream",
     "text": [
      "INFO:tensorflow:Assets written to: models\\RNN_Final-02-0.523.model\\assets\n",
      "WARNING:absl:<keras.layers.recurrent.LSTMCell object at 0x0000018DCD056EB0> has the same name 'LSTMCell' as a built-in Keras object. Consider renaming <class 'keras.layers.recurrent.LSTMCell'> to avoid naming conflicts when loading with `tf.keras.models.load_model`. If renaming is not possible, pass the object in the `custom_objects` parameter of the load function.\n",
      "WARNING:absl:<keras.layers.recurrent.LSTMCell object at 0x0000018DC7E95790> has the same name 'LSTMCell' as a built-in Keras object. Consider renaming <class 'keras.layers.recurrent.LSTMCell'> to avoid naming conflicts when loading with `tf.keras.models.load_model`. If renaming is not possible, pass the object in the `custom_objects` parameter of the load function.\n",
      "WARNING:absl:<keras.layers.recurrent.LSTMCell object at 0x0000018DC7EBBE20> has the same name 'LSTMCell' as a built-in Keras object. Consider renaming <class 'keras.layers.recurrent.LSTMCell'> to avoid naming conflicts when loading with `tf.keras.models.load_model`. If renaming is not possible, pass the object in the `custom_objects` parameter of the load function.\n"
     ]
    },
    {
     "name": "stdout",
     "output_type": "stream",
     "text": [
      "1218/1218 [==============================] - 278s 228ms/step - loss: 0.6934 - accuracy: 0.5077 - val_loss: 0.6977 - val_accuracy: 0.5225\n",
      "Epoch 3/10\n",
      "1218/1218 [==============================] - ETA: 0s - loss: 0.6931 - accuracy: 0.5111INFO:tensorflow:Assets written to: models\\RNN_Final-03-0.515.model\\assets\n"
     ]
    },
    {
     "name": "stderr",
     "output_type": "stream",
     "text": [
      "INFO:tensorflow:Assets written to: models\\RNN_Final-03-0.515.model\\assets\n",
      "WARNING:absl:<keras.layers.recurrent.LSTMCell object at 0x0000018DCD056EB0> has the same name 'LSTMCell' as a built-in Keras object. Consider renaming <class 'keras.layers.recurrent.LSTMCell'> to avoid naming conflicts when loading with `tf.keras.models.load_model`. If renaming is not possible, pass the object in the `custom_objects` parameter of the load function.\n",
      "WARNING:absl:<keras.layers.recurrent.LSTMCell object at 0x0000018DC7E95790> has the same name 'LSTMCell' as a built-in Keras object. Consider renaming <class 'keras.layers.recurrent.LSTMCell'> to avoid naming conflicts when loading with `tf.keras.models.load_model`. If renaming is not possible, pass the object in the `custom_objects` parameter of the load function.\n",
      "WARNING:absl:<keras.layers.recurrent.LSTMCell object at 0x0000018DC7EBBE20> has the same name 'LSTMCell' as a built-in Keras object. Consider renaming <class 'keras.layers.recurrent.LSTMCell'> to avoid naming conflicts when loading with `tf.keras.models.load_model`. If renaming is not possible, pass the object in the `custom_objects` parameter of the load function.\n"
     ]
    },
    {
     "name": "stdout",
     "output_type": "stream",
     "text": [
      "1218/1218 [==============================] - 289s 237ms/step - loss: 0.6931 - accuracy: 0.5111 - val_loss: 0.6931 - val_accuracy: 0.5153\n",
      "Epoch 4/10\n",
      "1218/1218 [==============================] - ETA: 0s - loss: 0.6930 - accuracy: 0.5088INFO:tensorflow:Assets written to: models\\RNN_Final-04-0.505.model\\assets\n"
     ]
    },
    {
     "name": "stderr",
     "output_type": "stream",
     "text": [
      "INFO:tensorflow:Assets written to: models\\RNN_Final-04-0.505.model\\assets\n",
      "WARNING:absl:<keras.layers.recurrent.LSTMCell object at 0x0000018DCD056EB0> has the same name 'LSTMCell' as a built-in Keras object. Consider renaming <class 'keras.layers.recurrent.LSTMCell'> to avoid naming conflicts when loading with `tf.keras.models.load_model`. If renaming is not possible, pass the object in the `custom_objects` parameter of the load function.\n",
      "WARNING:absl:<keras.layers.recurrent.LSTMCell object at 0x0000018DC7E95790> has the same name 'LSTMCell' as a built-in Keras object. Consider renaming <class 'keras.layers.recurrent.LSTMCell'> to avoid naming conflicts when loading with `tf.keras.models.load_model`. If renaming is not possible, pass the object in the `custom_objects` parameter of the load function.\n",
      "WARNING:absl:<keras.layers.recurrent.LSTMCell object at 0x0000018DC7EBBE20> has the same name 'LSTMCell' as a built-in Keras object. Consider renaming <class 'keras.layers.recurrent.LSTMCell'> to avoid naming conflicts when loading with `tf.keras.models.load_model`. If renaming is not possible, pass the object in the `custom_objects` parameter of the load function.\n"
     ]
    },
    {
     "name": "stdout",
     "output_type": "stream",
     "text": [
      "1218/1218 [==============================] - 316s 260ms/step - loss: 0.6930 - accuracy: 0.5088 - val_loss: 0.6927 - val_accuracy: 0.5047\n",
      "Epoch 5/10\n",
      "1218/1218 [==============================] - ETA: 0s - loss: 0.6928 - accuracy: 0.5144INFO:tensorflow:Assets written to: models\\RNN_Final-05-0.504.model\\assets\n"
     ]
    },
    {
     "name": "stderr",
     "output_type": "stream",
     "text": [
      "INFO:tensorflow:Assets written to: models\\RNN_Final-05-0.504.model\\assets\n",
      "WARNING:absl:<keras.layers.recurrent.LSTMCell object at 0x0000018DCD056EB0> has the same name 'LSTMCell' as a built-in Keras object. Consider renaming <class 'keras.layers.recurrent.LSTMCell'> to avoid naming conflicts when loading with `tf.keras.models.load_model`. If renaming is not possible, pass the object in the `custom_objects` parameter of the load function.\n",
      "WARNING:absl:<keras.layers.recurrent.LSTMCell object at 0x0000018DC7E95790> has the same name 'LSTMCell' as a built-in Keras object. Consider renaming <class 'keras.layers.recurrent.LSTMCell'> to avoid naming conflicts when loading with `tf.keras.models.load_model`. If renaming is not possible, pass the object in the `custom_objects` parameter of the load function.\n",
      "WARNING:absl:<keras.layers.recurrent.LSTMCell object at 0x0000018DC7EBBE20> has the same name 'LSTMCell' as a built-in Keras object. Consider renaming <class 'keras.layers.recurrent.LSTMCell'> to avoid naming conflicts when loading with `tf.keras.models.load_model`. If renaming is not possible, pass the object in the `custom_objects` parameter of the load function.\n"
     ]
    },
    {
     "name": "stdout",
     "output_type": "stream",
     "text": [
      "1218/1218 [==============================] - 315s 259ms/step - loss: 0.6928 - accuracy: 0.5144 - val_loss: 0.6927 - val_accuracy: 0.5041\n",
      "Epoch 6/10\n",
      "1218/1218 [==============================] - ETA: 0s - loss: 0.6929 - accuracy: 0.5115INFO:tensorflow:Assets written to: models\\RNN_Final-06-0.520.model\\assets\n"
     ]
    },
    {
     "name": "stderr",
     "output_type": "stream",
     "text": [
      "INFO:tensorflow:Assets written to: models\\RNN_Final-06-0.520.model\\assets\n",
      "WARNING:absl:<keras.layers.recurrent.LSTMCell object at 0x0000018DCD056EB0> has the same name 'LSTMCell' as a built-in Keras object. Consider renaming <class 'keras.layers.recurrent.LSTMCell'> to avoid naming conflicts when loading with `tf.keras.models.load_model`. If renaming is not possible, pass the object in the `custom_objects` parameter of the load function.\n",
      "WARNING:absl:<keras.layers.recurrent.LSTMCell object at 0x0000018DC7E95790> has the same name 'LSTMCell' as a built-in Keras object. Consider renaming <class 'keras.layers.recurrent.LSTMCell'> to avoid naming conflicts when loading with `tf.keras.models.load_model`. If renaming is not possible, pass the object in the `custom_objects` parameter of the load function.\n",
      "WARNING:absl:<keras.layers.recurrent.LSTMCell object at 0x0000018DC7EBBE20> has the same name 'LSTMCell' as a built-in Keras object. Consider renaming <class 'keras.layers.recurrent.LSTMCell'> to avoid naming conflicts when loading with `tf.keras.models.load_model`. If renaming is not possible, pass the object in the `custom_objects` parameter of the load function.\n"
     ]
    },
    {
     "name": "stdout",
     "output_type": "stream",
     "text": [
      "1218/1218 [==============================] - 307s 252ms/step - loss: 0.6929 - accuracy: 0.5115 - val_loss: 0.6931 - val_accuracy: 0.5205\n",
      "Epoch 7/10\n",
      "1218/1218 [==============================] - ETA: 0s - loss: 0.6928 - accuracy: 0.5120INFO:tensorflow:Assets written to: models\\RNN_Final-07-0.501.model\\assets\n"
     ]
    },
    {
     "name": "stderr",
     "output_type": "stream",
     "text": [
      "INFO:tensorflow:Assets written to: models\\RNN_Final-07-0.501.model\\assets\n",
      "WARNING:absl:<keras.layers.recurrent.LSTMCell object at 0x0000018DCD056EB0> has the same name 'LSTMCell' as a built-in Keras object. Consider renaming <class 'keras.layers.recurrent.LSTMCell'> to avoid naming conflicts when loading with `tf.keras.models.load_model`. If renaming is not possible, pass the object in the `custom_objects` parameter of the load function.\n",
      "WARNING:absl:<keras.layers.recurrent.LSTMCell object at 0x0000018DC7E95790> has the same name 'LSTMCell' as a built-in Keras object. Consider renaming <class 'keras.layers.recurrent.LSTMCell'> to avoid naming conflicts when loading with `tf.keras.models.load_model`. If renaming is not possible, pass the object in the `custom_objects` parameter of the load function.\n",
      "WARNING:absl:<keras.layers.recurrent.LSTMCell object at 0x0000018DC7EBBE20> has the same name 'LSTMCell' as a built-in Keras object. Consider renaming <class 'keras.layers.recurrent.LSTMCell'> to avoid naming conflicts when loading with `tf.keras.models.load_model`. If renaming is not possible, pass the object in the `custom_objects` parameter of the load function.\n"
     ]
    },
    {
     "name": "stdout",
     "output_type": "stream",
     "text": [
      "1218/1218 [==============================] - 369s 303ms/step - loss: 0.6928 - accuracy: 0.5120 - val_loss: 0.6933 - val_accuracy: 0.5010\n",
      "Epoch 8/10\n",
      "1218/1218 [==============================] - ETA: 0s - loss: 0.6927 - accuracy: 0.5157INFO:tensorflow:Assets written to: models\\RNN_Final-08-0.504.model\\assets\n"
     ]
    },
    {
     "name": "stderr",
     "output_type": "stream",
     "text": [
      "INFO:tensorflow:Assets written to: models\\RNN_Final-08-0.504.model\\assets\n",
      "WARNING:absl:<keras.layers.recurrent.LSTMCell object at 0x0000018DCD056EB0> has the same name 'LSTMCell' as a built-in Keras object. Consider renaming <class 'keras.layers.recurrent.LSTMCell'> to avoid naming conflicts when loading with `tf.keras.models.load_model`. If renaming is not possible, pass the object in the `custom_objects` parameter of the load function.\n",
      "WARNING:absl:<keras.layers.recurrent.LSTMCell object at 0x0000018DC7E95790> has the same name 'LSTMCell' as a built-in Keras object. Consider renaming <class 'keras.layers.recurrent.LSTMCell'> to avoid naming conflicts when loading with `tf.keras.models.load_model`. If renaming is not possible, pass the object in the `custom_objects` parameter of the load function.\n",
      "WARNING:absl:<keras.layers.recurrent.LSTMCell object at 0x0000018DC7EBBE20> has the same name 'LSTMCell' as a built-in Keras object. Consider renaming <class 'keras.layers.recurrent.LSTMCell'> to avoid naming conflicts when loading with `tf.keras.models.load_model`. If renaming is not possible, pass the object in the `custom_objects` parameter of the load function.\n"
     ]
    },
    {
     "name": "stdout",
     "output_type": "stream",
     "text": [
      "1218/1218 [==============================] - 348s 285ms/step - loss: 0.6927 - accuracy: 0.5157 - val_loss: 0.6928 - val_accuracy: 0.5039\n",
      "Epoch 9/10\n",
      "1218/1218 [==============================] - ETA: 0s - loss: 0.6927 - accuracy: 0.5158INFO:tensorflow:Assets written to: models\\RNN_Final-09-0.506.model\\assets\n"
     ]
    },
    {
     "name": "stderr",
     "output_type": "stream",
     "text": [
      "INFO:tensorflow:Assets written to: models\\RNN_Final-09-0.506.model\\assets\n",
      "WARNING:absl:<keras.layers.recurrent.LSTMCell object at 0x0000018DCD056EB0> has the same name 'LSTMCell' as a built-in Keras object. Consider renaming <class 'keras.layers.recurrent.LSTMCell'> to avoid naming conflicts when loading with `tf.keras.models.load_model`. If renaming is not possible, pass the object in the `custom_objects` parameter of the load function.\n",
      "WARNING:absl:<keras.layers.recurrent.LSTMCell object at 0x0000018DC7E95790> has the same name 'LSTMCell' as a built-in Keras object. Consider renaming <class 'keras.layers.recurrent.LSTMCell'> to avoid naming conflicts when loading with `tf.keras.models.load_model`. If renaming is not possible, pass the object in the `custom_objects` parameter of the load function.\n",
      "WARNING:absl:<keras.layers.recurrent.LSTMCell object at 0x0000018DC7EBBE20> has the same name 'LSTMCell' as a built-in Keras object. Consider renaming <class 'keras.layers.recurrent.LSTMCell'> to avoid naming conflicts when loading with `tf.keras.models.load_model`. If renaming is not possible, pass the object in the `custom_objects` parameter of the load function.\n"
     ]
    },
    {
     "name": "stdout",
     "output_type": "stream",
     "text": [
      "1218/1218 [==============================] - 332s 273ms/step - loss: 0.6927 - accuracy: 0.5158 - val_loss: 0.6930 - val_accuracy: 0.5062\n",
      "Epoch 10/10\n",
      "1218/1218 [==============================] - ETA: 0s - loss: 0.6930 - accuracy: 0.5079INFO:tensorflow:Assets written to: models\\RNN_Final-10-0.500.model\\assets\n"
     ]
    },
    {
     "name": "stderr",
     "output_type": "stream",
     "text": [
      "INFO:tensorflow:Assets written to: models\\RNN_Final-10-0.500.model\\assets\n",
      "WARNING:absl:<keras.layers.recurrent.LSTMCell object at 0x0000018DCD056EB0> has the same name 'LSTMCell' as a built-in Keras object. Consider renaming <class 'keras.layers.recurrent.LSTMCell'> to avoid naming conflicts when loading with `tf.keras.models.load_model`. If renaming is not possible, pass the object in the `custom_objects` parameter of the load function.\n",
      "WARNING:absl:<keras.layers.recurrent.LSTMCell object at 0x0000018DC7E95790> has the same name 'LSTMCell' as a built-in Keras object. Consider renaming <class 'keras.layers.recurrent.LSTMCell'> to avoid naming conflicts when loading with `tf.keras.models.load_model`. If renaming is not possible, pass the object in the `custom_objects` parameter of the load function.\n",
      "WARNING:absl:<keras.layers.recurrent.LSTMCell object at 0x0000018DC7EBBE20> has the same name 'LSTMCell' as a built-in Keras object. Consider renaming <class 'keras.layers.recurrent.LSTMCell'> to avoid naming conflicts when loading with `tf.keras.models.load_model`. If renaming is not possible, pass the object in the `custom_objects` parameter of the load function.\n"
     ]
    },
    {
     "name": "stdout",
     "output_type": "stream",
     "text": [
      "1218/1218 [==============================] - 319s 262ms/step - loss: 0.6930 - accuracy: 0.5079 - val_loss: nan - val_accuracy: 0.5000\n",
      "INFO:tensorflow:Assets written to: assets\n"
     ]
    },
    {
     "name": "stderr",
     "output_type": "stream",
     "text": [
      "INFO:tensorflow:Assets written to: assets\n",
      "WARNING:absl:<keras.layers.recurrent.LSTMCell object at 0x0000018DCD056EB0> has the same name 'LSTMCell' as a built-in Keras object. Consider renaming <class 'keras.layers.recurrent.LSTMCell'> to avoid naming conflicts when loading with `tf.keras.models.load_model`. If renaming is not possible, pass the object in the `custom_objects` parameter of the load function.\n",
      "WARNING:absl:<keras.layers.recurrent.LSTMCell object at 0x0000018DC7E95790> has the same name 'LSTMCell' as a built-in Keras object. Consider renaming <class 'keras.layers.recurrent.LSTMCell'> to avoid naming conflicts when loading with `tf.keras.models.load_model`. If renaming is not possible, pass the object in the `custom_objects` parameter of the load function.\n",
      "WARNING:absl:<keras.layers.recurrent.LSTMCell object at 0x0000018DC7EBBE20> has the same name 'LSTMCell' as a built-in Keras object. Consider renaming <class 'keras.layers.recurrent.LSTMCell'> to avoid naming conflicts when loading with `tf.keras.models.load_model`. If renaming is not possible, pass the object in the `custom_objects` parameter of the load function.\n"
     ]
    }
   ],
   "source": [
    "model = Sequential()\n",
    "model.add(LSTM(128, input_shape=(train_x.shape[1:]), activation='relu', return_sequences=True))\n",
    "model.add(Dropout(0.2))\n",
    "model.add(BatchNormalization())\n",
    "\n",
    "model.add(LSTM(128, input_shape=(train_x.shape[1:]), activation='relu', return_sequences=True))\n",
    "model.add(Dropout(0.1))\n",
    "model.add(BatchNormalization())\n",
    "\n",
    "model.add(LSTM(128, input_shape=(train_x.shape[1:]), activation='relu'))\n",
    "model.add(Dropout(0.2))\n",
    "model.add(BatchNormalization())\n",
    "\n",
    "model.add(Dense(32, activation='relu'))\n",
    "model.add(Dropout(0.2))\n",
    "\n",
    "model.add(Dense(2, activation='softmax'))\n",
    "\n",
    "opt = keras.optimizers.Adam(lr = 0.001, decay = 1e-6)\n",
    "\n",
    "model.compile(loss='sparse_categorical_crossentropy', optimizer= opt, metrics= ['accuracy'])\n",
    "model.summary()\n",
    "\n",
    "tensorboard = TensorBoard(log_dir=f'logs/{NAME}')\n",
    "\n",
    "filepath = \"RNN_Final-{epoch:02d}-{val_accuracy:.3f}\"  # unique file name that will include the epoch and the validation acc for that epoch\n",
    "checkpoint = ModelCheckpoint(\"models/{}.model\".format(filepath, monitor='val_accuracy', verbose=1, save_best_only=True, mode='max')) \t# saves only the best ones\n",
    "\n",
    "history = model.fit(train_x, train_y, batch_size= BATCH_SIZE, epochs= EPOCHS, validation_data=(validation_x, validation_y), callbacks=[tensorboard, checkpoint])\n",
    "\n",
    "model.save('')\n"
   ]
  }
 ],
 "metadata": {
  "interpreter": {
   "hash": "e72ecba000026de049f091d098c2799984f5b6b9a9d87a038c69fe956a832c4a"
  },
  "kernelspec": {
   "display_name": "Python 3.9.12 ('d-rl')",
   "language": "python",
   "name": "python3"
  },
  "language_info": {
   "codemirror_mode": {
    "name": "ipython",
    "version": 3
   },
   "file_extension": ".py",
   "mimetype": "text/x-python",
   "name": "python",
   "nbconvert_exporter": "python",
   "pygments_lexer": "ipython3",
   "version": "3.9.12"
  },
  "orig_nbformat": 4
 },
 "nbformat": 4,
 "nbformat_minor": 2
}
